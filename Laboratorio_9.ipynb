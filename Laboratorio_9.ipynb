{
  "nbformat": 4,
  "nbformat_minor": 0,
  "metadata": {
    "colab": {
      "provenance": [],
      "name": "Laboratorio_9.ipynb",
      "authorship_tag": "ABX9TyNrUTS7s4stQZH/MItAhcIm",
      "include_colab_link": true
    },
    "kernelspec": {
      "name": "python3",
      "display_name": "Python 3"
    },
    "language_info": {
      "name": "python"
    }
  },
  "cells": [
    {
      "cell_type": "markdown",
      "metadata": {
        "id": "view-in-github",
        "colab_type": "text"
      },
      "source": [
        "<a href=\"https://colab.research.google.com/github/johnmasso/Python/blob/main/Laboratorio_9.ipynb\" target=\"_parent\"><img src=\"https://colab.research.google.com/assets/colab-badge.svg\" alt=\"Open In Colab\"/></a>"
      ]
    },
    {
      "cell_type": "markdown",
      "source": [
        "# TALLER LABORATORIO 9\n",
        "## PARTE 1\n",
        "### Ejercicio 1\n",
        "\n",
        "Se tiene un conjunto de datos sobre empleados que incluye su nombre, edad, salario y\n",
        "fecha de ingreso. Se requiere implementar algunos pasos de aseguramiento de la\n",
        "calidad de los datos, como la verificación de valores faltantes y la validación de\n",
        "formatos de datos.\n",
        "- Datos\n",
        "• Nombre: Juan,Ana, Pedro,María,Luis,Ana\n",
        "• Edad:28, 34, None, 45, 38, 34.\n",
        "• Salario:3000, 4000, cinco mil, 4500, 4000, 5000\n",
        "• Fecha Ingreso:2021-01-15, 2020/03/12, 2022-07-01,2021/12/01,2021-05-20,\n",
        "2020-03-12\n",
        "- Se requiere:\n",
        "1. Identificar y contar los valores faltantes en cada columna.\n",
        "2. Verificar el formato de la columna 'Salario' para asegurar que todos los valores\n",
        "sean numéricos.\n",
        "3. Validar y estandarizar el formato de la columna 'Fecha Ingreso' a YYYY-MM-DD"
      ],
      "metadata": {
        "id": "ozjlW0t4yZpr"
      }
    },
    {
      "cell_type": "code",
      "execution_count": null,
      "metadata": {
        "colab": {
          "base_uri": "https://localhost:8080/"
        },
        "id": "f_wF-zb2GFhl",
        "outputId": "aee215e5-a301-4948-dc34-74873b01b6b5"
      },
      "outputs": [
        {
          "output_type": "stream",
          "name": "stdout",
          "text": [
            "Valores faltantes por columna:\n",
            "Nombre           0\n",
            "Edad             1\n",
            "Salario          0\n",
            "Fecha_Ingreso    0\n",
            "dtype: int64\n",
            "\n",
            "\n",
            "Columna 'Salario' tras la verificación de valores numéricos:\n",
            "     Salario  Salario_Numerico\n",
            "0       3000            3000.0\n",
            "1       4000            4000.0\n",
            "2  cinco mil               NaN\n",
            "3       4500            4500.0\n",
            "4       4000            4000.0\n",
            "5       5000            5000.0\n",
            "\n",
            "\n",
            "Columna 'Fecha_Ingreso' tras la estandarización:\n",
            "  Fecha_Ingreso Fecha_Ingreso_Validada\n",
            "0    2021-01-15             2021-01-15\n",
            "1    2020/03/12             2020-03-12\n",
            "2    2022-07-01             2022-07-01\n",
            "3    2021/12/01             2021-12-01\n",
            "4    2021-05-20             2021-05-20\n",
            "5    2020-03-12             2020-03-12\n",
            "\n",
            "\n",
            "DataFrame final con los datos procesados:\n",
            "  Nombre  Edad    Salario Fecha_Ingreso  Salario_Numerico  \\\n",
            "0   Juan  28.0       3000    2021-01-15            3000.0   \n",
            "1    Ana  34.0       4000    2020/03/12            4000.0   \n",
            "2  Pedro   NaN  cinco mil    2022-07-01               NaN   \n",
            "3  María  45.0       4500    2021/12/01            4500.0   \n",
            "4   Luis  38.0       4000    2021-05-20            4000.0   \n",
            "5    Ana  34.0       5000    2020-03-12            5000.0   \n",
            "\n",
            "  Fecha_Ingreso_Validada  \n",
            "0             2021-01-15  \n",
            "1             2020-03-12  \n",
            "2             2022-07-01  \n",
            "3             2021-12-01  \n",
            "4             2021-05-20  \n",
            "5             2020-03-12  \n"
          ]
        }
      ],
      "source": [
        "import pandas as pd\n",
        "import numpy as np\n",
        "import re\n",
        "from datetime import datetime\n",
        "\n",
        "# Creación del Diccionario con los datos proporcionados\n",
        "data = {\n",
        "    'Nombre': ['Juan', 'Ana', 'Pedro', 'María', 'Luis', 'Ana'],\n",
        "    'Edad': [28, 34, None, 45, 38, 34],\n",
        "    'Salario': ['3000', '4000', 'cinco mil', '4500', '4000', '5000'],\n",
        "    'Fecha_Ingreso': ['2021-01-15', '2020/03/12', '2022-07-01', '2021/12/01', '2021-05-20', '2020-03-12']\n",
        "}\n",
        "\n",
        "#Crear el Datframe\n",
        "df = pd.DataFrame(data)\n",
        "\n",
        "# 1. Identificar y contar valores faltantes\n",
        "print(\"Valores faltantes por columna:\")\n",
        "print(df.isnull().sum())\n",
        "print(\"\\n\")\n",
        "\n",
        "# 2. Verificar el formato de la columna 'Salario'\n",
        "def es_numerico(valor):\n",
        "    # Verifica si el valor es numérico usando expresiones regulares\n",
        "    return bool(re.match(r'^\\d+(\\.\\d+)?$', str(valor)))\n",
        "\n",
        "# Aplicar la validación y marcar como NaN los valores no numéricos\n",
        "df['Salario_Numerico'] = df['Salario'].apply(lambda x: float(x) if es_numerico(x) else np.nan)\n",
        "\n",
        "print(\"Columna 'Salario' tras la verificación de valores numéricos:\")\n",
        "print(df[['Salario', 'Salario_Numerico']])\n",
        "print(\"\\n\")\n",
        "\n",
        "# 3. Validar y estandarizar el formato de la columna 'Fecha_Ingreso' a YYYY-MM-DD\n",
        "def estandarizar_fecha(fecha):\n",
        "    try:\n",
        "        # Intentar convertir a formato YYYY-MM-DD\n",
        "        return pd.to_datetime(fecha).strftime('%Y-%m-%d')\n",
        "    except:\n",
        "        # Marcar como NaN si el formato no es válido\n",
        "        return np.nan\n",
        "\n",
        "# Aplicar la estandarización de fechas\n",
        "df['Fecha_Ingreso_Validada'] = df['Fecha_Ingreso'].apply(estandarizar_fecha)\n",
        "\n",
        "print(\"Columna 'Fecha_Ingreso' tras la estandarización:\")\n",
        "print(df[['Fecha_Ingreso', 'Fecha_Ingreso_Validada']])\n",
        "print(\"\\n\")\n",
        "\n",
        "# Mostrar el DataFrame final\n",
        "print(\"DataFrame final con los datos procesados:\")\n",
        "print(df)\n"
      ]
    },
    {
      "cell_type": "markdown",
      "source": [
        "### Ejercicio 2\n",
        "\n",
        "Se tiene un conjunto de datos sobre empleados que incluye su nombre, edad, salario,\n",
        "puesto de trabajo y fecha de ingreso. Se requiere implementar aseguramiento de la\n",
        "calidad de los datos, verificando la completitud de los datos, la validez de los salarios y\n",
        "la consistencia de las fechas de ingreso.\n",
        "- Datos:\n",
        "• Nombre: Juan, Ana, Pedro, María, Luis, Carla\n",
        "• Edad: 28, None, 40, 45, 38, 34\n",
        "• Salario: 3000, 4000, 4500, cuatro mil, 5000, 4000\n",
        "• Cargo: Analista, Gerente, Desarrollador, Gerente, Analista, None\n",
        "• Fecha Ingreso: 2021-01-15, 2020/03/12, 2022-07-01, 2021/12/01, None, 2020-\n",
        "03-12\n",
        "- Se requiere:\n",
        "1. Identificar y contar los valores faltantes en cada columna.\n",
        "2. Verificar el formato de la columna \"Salario\" para asegurarse de que todos los\n",
        "valores sean numéricos.\n",
        "3. Validar y estandarizar el formato de la columna \"FechaIngreso\" a YYYY-MM-DD.\n",
        "4. Verificar que no haya valores faltantes en la columna \"Cargo\".\n",
        "\n"
      ],
      "metadata": {
        "id": "DErhrsybynYI"
      }
    },
    {
      "cell_type": "code",
      "source": [
        "import pandas as pd\n",
        "import numpy as np\n",
        "import re\n",
        "from datetime import datetime\n",
        "\n",
        "# Creación del DataFrame con los datos proporcionados\n",
        "data = {\n",
        "    'Nombre': ['Juan', 'Ana', 'Pedro', 'María', 'Luis', 'Carla'],\n",
        "    'Edad': [28, None, 40, 45, 38, 34],\n",
        "    'Salario': ['3000', '4000', '4500', 'cuatro mil', '5000', '4000'],\n",
        "    'Cargo': ['Analista', 'Gerente', 'Desarrollador', 'Gerente', 'Analista', None],\n",
        "    'Fecha_Ingreso': ['2021-01-15', '2020/03/12', '2022-07-01', '2021/12/01', None, '2020-03-12']\n",
        "}\n",
        "\n",
        "df = pd.DataFrame(data)\n",
        "\n",
        "# 1. Identificar y contar valores faltantes en cada columna\n",
        "print(\"Valores faltantes por columna:\")\n",
        "print(df.isnull().sum())\n",
        "print(\"\\n\")\n",
        "\n",
        "# 2. Verificar el formato de la columna 'Salario' para asegurarse de que todos los valores sean numéricos\n",
        "def es_numerico(valor):\n",
        "    # Verifica si el valor es numérico usando expresiones regulares\n",
        "    return bool(re.match(r'^\\d+(\\.\\d+)?$', str(valor)))\n",
        "\n",
        "# Crear una nueva columna para los valores validados de 'Salario'\n",
        "df['Salario_Numerico'] = df['Salario'].apply(lambda x: float(x) if es_numerico(x) else np.nan)\n",
        "\n",
        "print(\"Columna 'Salario' tras la validación de valores numéricos:\")\n",
        "print(df[['Salario', 'Salario_Numerico']])\n",
        "print(\"\\n\")\n",
        "\n",
        "# 3. Validar y estandarizar el formato de la columna 'Fecha_Ingreso' a YYYY-MM-DD\n",
        "def estandarizar_fecha(fecha):\n",
        "    try:\n",
        "        # Convertir al formato deseado\n",
        "        return pd.to_datetime(fecha).strftime('%Y-%m-%d')\n",
        "    except:\n",
        "        # Si falla, retornar NaN\n",
        "        return np.nan\n",
        "\n",
        "# Crear una nueva columna con las fechas validadas\n",
        "df['Fecha_Ingreso_Validada'] = df['Fecha_Ingreso'].apply(estandarizar_fecha)\n",
        "\n",
        "print(\"Columna 'Fecha_Ingreso' tras la estandarización:\")\n",
        "print(df[['Fecha_Ingreso', 'Fecha_Ingreso_Validada']])\n",
        "print(\"\\n\")\n",
        "\n",
        "# 4. Verificar que no haya valores faltantes en la columna 'Cargo'\n",
        "faltantes_cargo = df['Cargo'].isnull().sum()\n",
        "if faltantes_cargo > 0:\n",
        "    print(f\"La columna 'Cargo' tiene {faltantes_cargo} valores faltantes.\\n\")\n",
        "else:\n",
        "    print(\"La columna 'Cargo' no tiene valores faltantes.\\n\")\n",
        "\n",
        "# Mostrar el DataFrame final con todas las transformaciones aplicadas\n",
        "print(\"DataFrame final con los datos procesados:\")\n",
        "print(df)\n"
      ],
      "metadata": {
        "colab": {
          "base_uri": "https://localhost:8080/"
        },
        "id": "nUotWldox9Wl",
        "outputId": "77e53a8a-297f-455a-986e-c550e4ca3a03"
      },
      "execution_count": null,
      "outputs": [
        {
          "output_type": "stream",
          "name": "stdout",
          "text": [
            "Valores faltantes por columna:\n",
            "Nombre           0\n",
            "Edad             1\n",
            "Salario          0\n",
            "Cargo            1\n",
            "Fecha_Ingreso    1\n",
            "dtype: int64\n",
            "\n",
            "\n",
            "Columna 'Salario' tras la validación de valores numéricos:\n",
            "      Salario  Salario_Numerico\n",
            "0        3000            3000.0\n",
            "1        4000            4000.0\n",
            "2        4500            4500.0\n",
            "3  cuatro mil               NaN\n",
            "4        5000            5000.0\n",
            "5        4000            4000.0\n",
            "\n",
            "\n",
            "Columna 'Fecha_Ingreso' tras la estandarización:\n",
            "  Fecha_Ingreso Fecha_Ingreso_Validada\n",
            "0    2021-01-15             2021-01-15\n",
            "1    2020/03/12             2020-03-12\n",
            "2    2022-07-01             2022-07-01\n",
            "3    2021/12/01             2021-12-01\n",
            "4          None                    NaN\n",
            "5    2020-03-12             2020-03-12\n",
            "\n",
            "\n",
            "La columna 'Cargo' tiene 1 valores faltantes.\n",
            "\n",
            "DataFrame final con los datos procesados:\n",
            "  Nombre  Edad     Salario          Cargo Fecha_Ingreso  Salario_Numerico  \\\n",
            "0   Juan  28.0        3000       Analista    2021-01-15            3000.0   \n",
            "1    Ana   NaN        4000        Gerente    2020/03/12            4000.0   \n",
            "2  Pedro  40.0        4500  Desarrollador    2022-07-01            4500.0   \n",
            "3  María  45.0  cuatro mil        Gerente    2021/12/01               NaN   \n",
            "4   Luis  38.0        5000       Analista          None            5000.0   \n",
            "5  Carla  34.0        4000           None    2020-03-12            4000.0   \n",
            "\n",
            "  Fecha_Ingreso_Validada  \n",
            "0             2021-01-15  \n",
            "1             2020-03-12  \n",
            "2             2022-07-01  \n",
            "3             2021-12-01  \n",
            "4                    NaN  \n",
            "5             2020-03-12  \n"
          ]
        }
      ]
    },
    {
      "cell_type": "markdown",
      "source": [
        "## PARTE 2\n",
        "### Ejercicio 3\n",
        "\n",
        "Se requiere validar los datos: Precios de Productos, se tiene una lista de productos con\n",
        "los respectivos precios y se necesita validar que ningún precio sea negativo o nulo.\n",
        "- Se requiere:\n",
        "1. Crear un DataFrame con productos y precios.\n",
        "2. Producto: Producto A, Producto B,Producto C,Producto D.\n",
        "3. Precio:150, -25, 100, None.\n",
        "4. Validar que todos los precios sean mayores o iguales a cero y no nulos.\n",
        "5. Mostrar los productos con precios inválidos.\n",
        "- Resultado esperado: Una tabla que muestra qué productos tienen precios\n",
        "incorrectos."
      ],
      "metadata": {
        "id": "MfVuMeAYy1RX"
      }
    },
    {
      "cell_type": "code",
      "source": [
        "import pandas as pd\n",
        "import numpy as np\n",
        "\n",
        "# 1. Crear un DataFrame con productos y precios\n",
        "data = {\n",
        "    'Producto': ['Producto A', 'Producto B', 'Producto C', 'Producto D'],\n",
        "    'Precio': [150, -25, 100, None]\n",
        "}\n",
        "\n",
        "df = pd.DataFrame(data)\n",
        "\n",
        "# 2. Validar que todos los precios sean mayores o iguales a cero y no nulos\n",
        "df['Precio_Valido'] = df['Precio'].apply(lambda x: x is not None and x >= 0)\n",
        "\n",
        "# 3. Mostrar los productos con precios inválidos\n",
        "productos_invalidos = df[~df['Precio_Valido']]\n",
        "\n",
        "# 4. Resultados\n",
        "print(\"Productos con precios inválidos:\")\n",
        "print(productos_invalidos[['Producto', 'Precio']])\n",
        "\n",
        "print(\"\\nDataFrame completo con la validación aplicada:\")\n",
        "print(df)\n"
      ],
      "metadata": {
        "colab": {
          "base_uri": "https://localhost:8080/"
        },
        "id": "0kXAvicpy6OL",
        "outputId": "b057a8a9-e7fc-43a0-cfec-88ab4d1eb603"
      },
      "execution_count": null,
      "outputs": [
        {
          "output_type": "stream",
          "name": "stdout",
          "text": [
            "Productos con precios inválidos:\n",
            "     Producto  Precio\n",
            "1  Producto B   -25.0\n",
            "3  Producto D     NaN\n",
            "\n",
            "DataFrame completo con la validación aplicada:\n",
            "     Producto  Precio  Precio_Valido\n",
            "0  Producto A   150.0           True\n",
            "1  Producto B   -25.0          False\n",
            "2  Producto C   100.0           True\n",
            "3  Producto D     NaN          False\n"
          ]
        }
      ]
    },
    {
      "cell_type": "markdown",
      "source": [
        "### Ejercicio 4\n",
        "\n",
        "Se requiere validar los datos duplicados: Clientes en una Base de Datos, se tiene una\n",
        "lista de clientes donde algunos registros tienen el mismo ID y necesitas identificarlos.\n",
        "- Se requiere:\n",
        "1. Crear un DataFrame con información de clientes.\n",
        "2. ID Cliente:1, 2, 3, 2, 4.\n",
        "3. Nombre: Ana, Luis, María, Luis, Carlos\n",
        "4. Verificar si hay duplicados en la columna de ID del cliente.\n",
        "5. Mostrar los registros duplicados.\n",
        "- Resultado esperado: Una tabla que contiene solo los clientes que tienen el mismo\n",
        "ID, facilitando su corrección."
      ],
      "metadata": {
        "id": "05ibG2xUDU3e"
      }
    },
    {
      "cell_type": "code",
      "source": [
        "import pandas as pd\n",
        "\n",
        "# 1. Crear un DataFrame con información de clientes\n",
        "data = {\n",
        "    'ID_Cliente': [1, 2, 3, 2, 4],\n",
        "    'Nombre': ['Ana', 'Luis', 'María', 'Luis', 'Carlos']\n",
        "}\n",
        "\n",
        "df = pd.DataFrame(data)\n",
        "\n",
        "# 2. Verificar si hay duplicados en la columna de ID del cliente\n",
        "duplicados = df[df.duplicated(subset='ID_Cliente', keep=False)]\n",
        "\n",
        "# 3. Mostrar los registros duplicados\n",
        "print(\"Registros duplicados basados en el ID del cliente:\")\n",
        "print(duplicados)\n",
        "\n",
        "print(\"\\nDataFrame completo para referencia:\")\n",
        "print(df)\n"
      ],
      "metadata": {
        "colab": {
          "base_uri": "https://localhost:8080/"
        },
        "id": "3Ew468gPDUeX",
        "outputId": "e74837b2-9e50-48d2-8c00-54bcea312e4d"
      },
      "execution_count": null,
      "outputs": [
        {
          "output_type": "stream",
          "name": "stdout",
          "text": [
            "Registros duplicados basados en el ID del cliente:\n",
            "   ID_Cliente Nombre\n",
            "1           2   Luis\n",
            "3           2   Luis\n",
            "\n",
            "DataFrame completo para referencia:\n",
            "   ID_Cliente  Nombre\n",
            "0           1     Ana\n",
            "1           2    Luis\n",
            "2           3   María\n",
            "3           2    Luis\n",
            "4           4  Carlos\n"
          ]
        }
      ]
    },
    {
      "cell_type": "markdown",
      "source": [
        "### Ejercicio 5\n",
        "\n",
        "Se requiere tener seguridad en los datos: Encriptación y Desencriptación de Datos\n",
        "Sensibles, se tiene un número de tarjeta de crédito que deseas encriptar para protegerlo\n",
        "y luego desencriptarlo para el uso.\n",
        "- Se requiere:\n",
        "1. Crear una cadena con datos sensibles (un número de tarjeta 1234-5678-9101-\n",
        "1121).\n",
        "2. Encriptar esos datos utilizando una clave generada.\n",
        "3. Desencriptar los datos y mostrar ambos (encriptado y desencriptado).\n",
        "- Resultado esperado: Ver el número de tarjeta encriptado y luego desencriptado,\n",
        "demostrando cómo proteger la información sensible."
      ],
      "metadata": {
        "id": "8WuP-tpEDZtL"
      }
    },
    {
      "cell_type": "code",
      "source": [
        "from cryptography.fernet import Fernet\n",
        "\n",
        "# 1. Crear una cadena con datos sensibles\n",
        "numero_tarjeta = \"1234-5678-9101-1121\"\n",
        "print(\"Número original de la tarjeta:\", numero_tarjeta)\n",
        "\n",
        "# 2. Generar una clave para la encriptación\n",
        "clave = Fernet.generate_key()\n",
        "fernet = Fernet(clave)\n",
        "\n",
        "# 3. Encriptar los datos sensibles\n",
        "numero_encriptado = fernet.encrypt(numero_tarjeta.encode())\n",
        "print(\"\\nNúmero de tarjeta encriptado:\", numero_encriptado)\n",
        "\n",
        "# 4. Desencriptar los datos\n",
        "numero_desencriptado = fernet.decrypt(numero_encriptado).decode()\n",
        "print(\"\\nNúmero de tarjeta desencriptado:\", numero_desencriptado)\n"
      ],
      "metadata": {
        "colab": {
          "base_uri": "https://localhost:8080/"
        },
        "id": "gns5I_ecDcjG",
        "outputId": "dfb3ead6-1f8c-4a26-94f8-4ac1f6f6ee1f"
      },
      "execution_count": null,
      "outputs": [
        {
          "output_type": "stream",
          "name": "stdout",
          "text": [
            "Número original de la tarjeta: 1234-5678-9101-1121\n",
            "\n",
            "Número de tarjeta encriptado: b'gAAAAABnOiBsxv2zdocClTRKZhUpwg7ollQGEWFQb0gevoGKK9s0GsQ9WbNJI86vYM_0_jXYkF-Tbh2jHDnSAyVQoUcSaMwE0Dft_iMZ6fIuTh-6vfPkxDY='\n",
            "\n",
            "Número de tarjeta desencriptado: 1234-5678-9101-1121\n"
          ]
        }
      ]
    }
  ]
}
{
  "nbformat": 4,
  "nbformat_minor": 0,
  "metadata": {
    "colab": {
      "provenance": [],
      "authorship_tag": "ABX9TyOVeMinexRJcl3nyUyhlxqr",
      "include_colab_link": true
    },
    "kernelspec": {
      "name": "python3",
      "display_name": "Python 3"
    },
    "language_info": {
      "name": "python"
    }
  },
  "cells": [
    {
      "cell_type": "markdown",
      "metadata": {
        "id": "view-in-github",
        "colab_type": "text"
      },
      "source": [
        "<a href=\"https://colab.research.google.com/github/johnmasso/Python/blob/main/Laboratorio_6.ipynb\" target=\"_parent\"><img src=\"https://colab.research.google.com/assets/colab-badge.svg\" alt=\"Open In Colab\"/></a>"
      ]
    },
    {
      "cell_type": "markdown",
      "source": [
        "# ALGORITMO PARA PREPARAR UN TÉ\n",
        "#### //Este algoritmo describe los pasos para preparar un Té.//\n",
        "\n",
        "1. Calentar agua hasta que hierva.\n",
        "2. Colocar una bolsa de té en una taza.\n",
        "3. Verter el agua caliente en la taza.\n",
        "4. Dejar reposar la bolsa de té en el agua durante un tiempo específico (generalmente 3-5 minutos).\n",
        "5. Retirar la bolsa de té de la taza.\n",
        "6. Añadir azúcar, miel, o leche al gusto (opcional).\n",
        "7. Revolver para mezclar bien.\n",
        "8. El té está listo para ser servido."
      ],
      "metadata": {
        "id": "FGs0GL2l49IY"
      }
    },
    {
      "cell_type": "code",
      "source": [
        "import time\n",
        "\n",
        "def preparar_te():\n",
        "    print(\"Paso 1: Calentando agua hasta que hierva...\")\n",
        "    time.sleep(2)  # Simula el tiempo de calentar el agua\n",
        "    print(\"Paso 2: Colocando una bolsa de té en una taza.\")\n",
        "\n",
        "    print(\"Paso 3: Vertiendo el agua caliente en la taza.\")\n",
        "\n",
        "    print(\"Paso 4: Dejando reposar la bolsa de té en el agua durante 3 minutos...\")\n",
        "    time.sleep(3)  # Simula los 3 minutos de reposo\n",
        "\n",
        "    print(\"Paso 5: Retirando la bolsa de té de la taza.\")\n",
        "\n",
        "    print(\"Paso 6: Añadiendo azúcar, miel o leche al gusto (opcional).\")\n",
        "\n",
        "    print(\"Paso 7: Revolviendo para mezclar bien.\")\n",
        "\n",
        "    print(\"Paso 8: El té está listo para ser servido.\")\n",
        "\n",
        "# Llamamos a la función para ejecutar el algoritmo\n",
        "preparar_te()\n"
      ],
      "metadata": {
        "colab": {
          "base_uri": "https://localhost:8080/"
        },
        "id": "WRQlOw4I6N-A",
        "outputId": "98f5ed84-b149-4032-fcfa-d3eb59bbc67a"
      },
      "execution_count": 1,
      "outputs": [
        {
          "output_type": "stream",
          "name": "stdout",
          "text": [
            "Paso 1: Calentando agua hasta que hierva...\n",
            "Paso 2: Colocando una bolsa de té en una taza.\n",
            "Paso 3: Vertiendo el agua caliente en la taza.\n",
            "Paso 4: Dejando reposar la bolsa de té en el agua durante 3 minutos...\n",
            "Paso 5: Retirando la bolsa de té de la taza.\n",
            "Paso 6: Añadiendo azúcar, miel o leche al gusto (opcional).\n",
            "Paso 7: Revolviendo para mezclar bien.\n",
            "Paso 8: El té está listo para ser servido.\n"
          ]
        }
      ]
    },
    {
      "cell_type": "markdown",
      "source": [
        "# Algoritmo para Calcular el Promedio de Notas\n",
        "\n",
        "#### El algoritmo básico para calcular el promedio de notas de un estudiante se puede estructurar de la siguiente manera:\n",
        "\n",
        "1. Solicitar al usuario que ingrese las notas del estudiante para cada asignatura.\n",
        "2. Almacenar cada nota en una variable o en una lista.\n",
        "3. Calcular el promedio sumando todas las notas y dividiéndolas entre la cantidad total de asignaturas.\n",
        "4. Mostrar el promedio de notas en pantalla."
      ],
      "metadata": {
        "id": "6AHRmukn7tQk"
      }
    },
    {
      "cell_type": "code",
      "source": [
        "# Solicitar al usuario que ingrese las notas\n",
        "nota1 = float(input(\"Ingrese la primera nota: \"))\n",
        "nota2 = float(input(\"Ingrese la segunda nota: \"))\n",
        "nota3 = float(input(\"Ingrese la tercera nota: \"))\n",
        "\n",
        "# Calcular el promedio de las notas\n",
        "promedio = (nota1 + nota2 + nota3) / 3\n",
        "\n",
        "# Mostrar el promedio en pantalla\n",
        "print(\"El promedio de las notas es:\", promedio)\n"
      ],
      "metadata": {
        "colab": {
          "base_uri": "https://localhost:8080/"
        },
        "id": "6JWgBbBk78q6",
        "outputId": "1ad8a53c-318d-4e26-b723-ae28eb851b2a"
      },
      "execution_count": 2,
      "outputs": [
        {
          "output_type": "stream",
          "name": "stdout",
          "text": [
            "Ingrese la primera nota: 4.5\n",
            "Ingrese la segunda nota: 3.6\n",
            "Ingrese la tercera nota: 4.3\n",
            "El promedio de las notas es: 4.133333333333333\n"
          ]
        }
      ]
    },
    {
      "cell_type": "markdown",
      "source": [
        "#Algoritmo para Verificar si un Número es Par o Impar\n",
        "\n",
        "#### El algoritmo para verificar si un número es par o impar sigue los siguientes pasos:\n",
        "\n",
        "1. Solicitar al usuario que ingrese un número.\n",
        "2. Comprobar si el número es divisible entre 2.\n",
        "3. Si el número es divisible entre 2 (es decir, el residuo de la división entre 2 es 0), el número es par.\n",
        "4. Si el número no es divisible entre 2 (el residuo es diferente de 0), el número es impar.\n",
        "5. Mostrar un mensaje indicando si el número es par o impar."
      ],
      "metadata": {
        "id": "AY5KOCIg8QRw"
      }
    },
    {
      "cell_type": "code",
      "source": [
        "# Solicitar al usuario que ingrese un número\n",
        "numero = int(input(\"Ingrese un número: \"))\n",
        "\n",
        "# Verificar si el número es par o impar utilizando el operador módulo (%)\n",
        "if numero % 2 == 0:\n",
        "    print(f\"El número {numero} es par.\")\n",
        "else:\n",
        "    print(f\"El número {numero} es impar.\")\n"
      ],
      "metadata": {
        "colab": {
          "base_uri": "https://localhost:8080/"
        },
        "id": "i7fwQKN28Xps",
        "outputId": "3cf44a84-efb7-4ab4-a721-f62f78fae344"
      },
      "execution_count": 4,
      "outputs": [
        {
          "output_type": "stream",
          "name": "stdout",
          "text": [
            "Ingrese un número: 5\n",
            "El número 5 es impar.\n"
          ]
        }
      ]
    },
    {
      "cell_type": "markdown",
      "source": [
        "# Algoritmo para Imprimir los Números del 1 al 5 y Verificar si son Pares o Impares\n",
        "\n",
        "#### El algoritmo para imprimir los números del 1 al 5 y verificar si son pares o impares sigue los siguientes pasos:\n",
        "\n",
        "1. Usar un bucle for para recorrer los números del 1 al 5.\n",
        "2. En cada iteración, verificar si el número es par o impar:\n",
        "3. Si el número es divisible por 2 (residuo igual a 0), el número es par.\n",
        "4. Si no es divisible por 2 (residuo diferente de 0), el número es impar.\n",
        "5. Mostrar el número junto con la indicación de si es par o impar."
      ],
      "metadata": {
        "id": "2rUB9-9t8ou9"
      }
    },
    {
      "cell_type": "code",
      "source": [
        "# Usamos un bucle for para recorrer los números del 1 al 5\n",
        "for numero in range(1, 6):\n",
        "    # Verificamos si el número es par o impar usando el operador módulo (%)\n",
        "    if numero % 2 == 0:\n",
        "        print(f\"El número {numero} es par.\")\n",
        "    else:\n",
        "        print(f\"El número {numero} es impar.\")\n"
      ],
      "metadata": {
        "colab": {
          "base_uri": "https://localhost:8080/"
        },
        "id": "efqXXEGz8z40",
        "outputId": "52e04f22-e6de-4eb6-d28e-7563cddcf7f4"
      },
      "execution_count": 5,
      "outputs": [
        {
          "output_type": "stream",
          "name": "stdout",
          "text": [
            "El número 1 es impar.\n",
            "El número 2 es par.\n",
            "El número 3 es impar.\n",
            "El número 4 es par.\n",
            "El número 5 es impar.\n"
          ]
        }
      ]
    },
    {
      "cell_type": "markdown",
      "source": [
        "# Algoritmo para Convertir Grados Celsius a Fahrenheit\n",
        "\n",
        "#### El algoritmo para convertir grados Celsius a Fahrenheit sigue estos pasos:\n",
        "\n",
        "1. Definir una función que reciba un valor de temperatura en grados Celsius.\n",
        "2. Aplicar la fórmula para convertir Celsius a Fahrenheit:\n",
        "Fahrenheit = (Celsius * 9/5) + 32.\n",
        "3. Retornar el valor calculado de Fahrenheit.\n",
        "4. Pedir al usuario que ingrese un valor en grados Celsius.\n",
        "5. Llamar a la función con el valor ingresado y mostrar el resultado."
      ],
      "metadata": {
        "id": "jhhpAHVV9FGY"
      }
    },
    {
      "cell_type": "code",
      "source": [
        "# Definimos una función para convertir grados Celsius a Fahrenheit\n",
        "def celsius_a_fahrenheit(celsius):\n",
        "    # Fórmula de conversión\n",
        "    fahrenheit = (celsius * 9/5) + 32\n",
        "    return fahrenheit\n",
        "\n",
        "# Solicitamos al usuario que ingrese una temperatura en grados Celsius\n",
        "celsius = float(input(\"Ingrese la temperatura en grados Celsius: \"))\n",
        "\n",
        "# Llamamos a la función y mostramos el resultado\n",
        "fahrenheit = celsius_a_fahrenheit(celsius)\n",
        "print(f\"{celsius} grados Celsius son equivalentes a {fahrenheit} grados Fahrenheit.\")\n"
      ],
      "metadata": {
        "colab": {
          "base_uri": "https://localhost:8080/"
        },
        "id": "Bo5hsirE9G2n",
        "outputId": "b91b1a1e-d32a-4131-9a03-3419e57cacc6"
      },
      "execution_count": 6,
      "outputs": [
        {
          "output_type": "stream",
          "name": "stdout",
          "text": [
            "Ingrese la temperatura en grados Celsius: 37.5\n",
            "37.5 grados Celsius son equivalentes a 99.5 grados Fahrenheit.\n"
          ]
        }
      ]
    },
    {
      "cell_type": "markdown",
      "source": [
        "# Algoritmo para Contar la Cantidad de Vocales en una Cadena de Texto\n",
        "\n",
        "#### El algoritmo para contar las vocales en una cadena de texto sigue los siguientes pasos:\n",
        "\n",
        "1. Solicitar al usuario que ingrese una cadena de texto.\n",
        "2. Inicializar una variable para contar las vocales.\n",
        "3. Recorrer la cadena de texto carácter por carácter utilizando un bucle for.\n",
        "4. Para cada carácter, verificar si es una vocal (mayúscula o minúscula).\n",
        "5. Si el carácter es una vocal, incrementar el contador de vocales.\n",
        "6. Al final del bucle, mostrar la cantidad total de vocales encontradas en la cadena."
      ],
      "metadata": {
        "id": "vuAycD-x9y07"
      }
    },
    {
      "cell_type": "code",
      "source": [
        "# Solicitar al usuario que ingrese una cadena de texto\n",
        "texto = input(\"Ingrese una cadena de texto: \")\n",
        "\n",
        "# Inicializamos el contador de vocales\n",
        "contador_vocales = 0\n",
        "\n",
        "# Convertir la cadena a minúsculas para facilitar la comparación\n",
        "texto = texto.lower()\n",
        "\n",
        "# Recorrer cada carácter de la cadena\n",
        "for caracter in texto:\n",
        "    # Verificar si el carácter es una vocal\n",
        "    if caracter in 'aeiou':\n",
        "        contador_vocales += 1\n",
        "\n",
        "# Mostrar el resultado\n",
        "print(f\"La cantidad de vocales en la cadena es: {contador_vocales}\")\n"
      ],
      "metadata": {
        "colab": {
          "base_uri": "https://localhost:8080/"
        },
        "id": "RkRYLBNX961m",
        "outputId": "d20a9c7b-0e7e-49e4-b82b-a01ad24ec3c0"
      },
      "execution_count": 7,
      "outputs": [
        {
          "output_type": "stream",
          "name": "stdout",
          "text": [
            "Ingrese una cadena de texto: Dios creó los cielos y la tierra\n",
            "La cantidad de vocales en la cadena es: 11\n"
          ]
        }
      ]
    },
    {
      "cell_type": "markdown",
      "source": [
        "# Algoritmo para Calcular el Factorial de un Número\n",
        "\n",
        "#### El algoritmo para calcular el factorial de un número ingresado por el usuario es el siguiente:\n",
        "\n",
        "1. Solicitar al usuario que ingrese un número entero positivo.\n",
        "2. Inicializar una variable factorial con el valor de 1 (ya que el producto inicial es 1).\n",
        "3. Inicializar otra variable contador con el valor del número ingresado, que usaremos para el cálculo descendente del factorial.\n",
        "4. Usar un bucle while para multiplicar la variable factorial por el contador y luego decrementar el valor de contador en 1 en cada iteración.\n",
        "5. Continuar el bucle hasta que contador sea menor o igual a 1.\n",
        "6. Mostrar el valor de factorial, que contendrá el resultado final."
      ],
      "metadata": {
        "id": "NTgfJdCj-Ttw"
      }
    },
    {
      "cell_type": "code",
      "source": [
        "# Solicitar al usuario que ingrese un número entero positivo\n",
        "numero = int(input(\"Ingrese un número entero positivo: \"))\n",
        "\n",
        "# Inicializar el factorial en 1\n",
        "factorial = 1\n",
        "\n",
        "# Inicializar el contador con el valor del número ingresado\n",
        "contador = numero\n",
        "\n",
        "# Usar un bucle while para calcular el factorial\n",
        "while contador > 1:\n",
        "    factorial *= contador\n",
        "    contador -= 1\n",
        "\n",
        "# Mostrar el resultado\n",
        "print(f\"El factorial de {numero} es: {factorial}\")\n"
      ],
      "metadata": {
        "colab": {
          "base_uri": "https://localhost:8080/"
        },
        "id": "v8KWnP9v-dto",
        "outputId": "f580dac6-778d-4948-c344-bc9ed09281d8"
      },
      "execution_count": 8,
      "outputs": [
        {
          "output_type": "stream",
          "name": "stdout",
          "text": [
            "Ingrese un número entero positivo: 42\n",
            "El factorial de 42 es: 1405006117752879898543142606244511569936384000000000\n"
          ]
        }
      ]
    }
  ]
}
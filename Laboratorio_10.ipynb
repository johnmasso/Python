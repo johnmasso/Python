{
  "nbformat": 4,
  "nbformat_minor": 0,
  "metadata": {
    "colab": {
      "provenance": [],
      "authorship_tag": "ABX9TyO/5gbG51Ze7/pGq/uCxuql",
      "include_colab_link": true
    },
    "kernelspec": {
      "name": "python3",
      "display_name": "Python 3"
    },
    "language_info": {
      "name": "python"
    }
  },
  "cells": [
    {
      "cell_type": "markdown",
      "metadata": {
        "id": "view-in-github",
        "colab_type": "text"
      },
      "source": [
        "<a href=\"https://colab.research.google.com/github/johnmasso/Python/blob/main/Laboratorio_10.ipynb\" target=\"_parent\"><img src=\"https://colab.research.google.com/assets/colab-badge.svg\" alt=\"Open In Colab\"/></a>"
      ]
    },
    {
      "cell_type": "markdown",
      "source": [
        "# TALLER LABORATORIO 10\n",
        "## PARTE 1\n",
        "\n",
        "Los ejercicios de práctica son escenarios reales que se deberás realizar el código usando las bibliotecas en Python para la manipulación de los datos y limpieza de los datos, pegar la captura de pantalla del resultado.\n",
        "\n",
        "### Ejecicio 1\n",
        "\n",
        "1. Salud Digital y Análisis de Datos de Pacientes\n",
        "Se tiene un conjunto de datos sobre pacientes que incluye nombre, edad, fecha de\n",
        "ingreso y resultados de pruebas. Algunos registros están incompletos o contienen\n",
        "errores.\n",
        "- Datos:\n",
        "• Nombre: Carlos, Ana, Luis,Pedro, María, None\n",
        "• Edad: 34, 29, None, 45, 25, 33\n",
        "• Fecha Ingreso: 2021-01-15, 2020/03/12, 2022-07-01,2021/12/01,2021-05-20,\n",
        "2020-03-12\n",
        "• Resultado Prueba: Positivo,Negativo, Positivo,Positivo, Negativo,Negativo.\n",
        "- Solución:"
      ],
      "metadata": {
        "id": "ldDSs_kGa4oF"
      }
    },
    {
      "cell_type": "code",
      "source": [
        "import pandas as pd\n",
        "\n",
        "# Crear el DataFrame con los datos de los pacientes\n",
        "data = {\n",
        "    \"Nombre\": [\"Carlos\", \"Ana\", \"Luis\", \"Pedro\", \"María\", None],\n",
        "    \"Edad\": [34, 29, None, 45, 25, 33],\n",
        "    \"Fecha_Ingreso\": [\"2021-01-15\", \"2020/03/12\", \"2022-07-01\", \"2021/12/01\", \"2021-05-20\", \"2020-03-12\"],\n",
        "    \"Resultado_Prueba\": [\"Positivo\", \"Negativo\", \"Positivo\", \"Positivo\", \"Negativo\", \"Negativo\"]\n",
        "}\n",
        "\n",
        "df = pd.DataFrame(data)\n",
        "\n",
        "# 1. Identificar y contar valores faltantes\n",
        "print(\"Valores faltantes en cada columna:\")\n",
        "print(df.isnull().sum())\n",
        "\n",
        "# 2. Validar y estandarizar el formato de la columna \"Fecha_Ingreso\" a YYYY-MM-DD\n",
        "df[\"Fecha_Ingreso\"] = pd.to_datetime(df[\"Fecha_Ingreso\"], errors=\"coerce\")\n",
        "print(\"\\nFechas de ingreso después de estandarizar:\")\n",
        "print(df[\"Fecha_Ingreso\"])\n",
        "\n",
        "# 3. Mostrar los registros incompletos\n",
        "registros_incompletos = df[df.isnull().any(axis=1)]\n",
        "print(\"\\nRegistros incompletos:\")\n",
        "print(registros_incompletos)\n",
        "\n",
        "# 4. Mostrar el DataFrame limpio (removiendo registros incompletos)\n",
        "df_limpio = df.dropna()\n",
        "print(\"\\nDataFrame después de limpiar registros incompletos:\")\n",
        "print(df_limpio)\n"
      ],
      "metadata": {
        "colab": {
          "base_uri": "https://localhost:8080/"
        },
        "id": "IlqvS6X-bMKq",
        "outputId": "66dae619-db2f-45ff-c9f2-a60d429da7bc"
      },
      "execution_count": 1,
      "outputs": [
        {
          "output_type": "stream",
          "name": "stdout",
          "text": [
            "Valores faltantes en cada columna:\n",
            "Nombre              1\n",
            "Edad                1\n",
            "Fecha_Ingreso       0\n",
            "Resultado_Prueba    0\n",
            "dtype: int64\n",
            "\n",
            "Fechas de ingreso después de estandarizar:\n",
            "0   2021-01-15\n",
            "1          NaT\n",
            "2   2022-07-01\n",
            "3          NaT\n",
            "4   2021-05-20\n",
            "5   2020-03-12\n",
            "Name: Fecha_Ingreso, dtype: datetime64[ns]\n",
            "\n",
            "Registros incompletos:\n",
            "  Nombre  Edad Fecha_Ingreso Resultado_Prueba\n",
            "1    Ana  29.0           NaT         Negativo\n",
            "2   Luis   NaN    2022-07-01         Positivo\n",
            "3  Pedro  45.0           NaT         Positivo\n",
            "5   None  33.0    2020-03-12         Negativo\n",
            "\n",
            "DataFrame después de limpiar registros incompletos:\n",
            "   Nombre  Edad Fecha_Ingreso Resultado_Prueba\n",
            "0  Carlos  34.0    2021-01-15         Positivo\n",
            "4   María  25.0    2021-05-20         Negativo\n"
          ]
        }
      ]
    },
    {
      "cell_type": "markdown",
      "source": [
        "### Ejercicio 2\n",
        "\n",
        "Comercio Electrónico y Recomendaciones Personalizadas\n",
        "Se tiene un conjunto de datos sobre transacciones de clientes que incluye el ID del\n",
        "cliente, el producto comprado, la cantidad, el precio y la fecha de la transacción.\n",
        "Algunos registros tienen errores en los precios y fechas.\n",
        "- Datos:\n",
        "• Cliente ID: 1, 2, 3, 4, 5\n",
        "• Producto: A, B, C,D, E\n",
        "• Cantidad: 10, 20, None, 5, 15\n",
        "• Precio:100, 200$,300, cuatrocientos,500\n",
        "• Fecha Transacción: 2023-01-15,2023/02/20,2023-03-25,2023/04/30.2023-05-10\n",
        "- Solucion:\n",
        "\n"
      ],
      "metadata": {
        "id": "bptZ-RaxbWTI"
      }
    },
    {
      "cell_type": "code",
      "source": [
        "import pandas as pd\n",
        "\n",
        "# Crear el DataFrame con los datos de transacciones\n",
        "data = {\n",
        "    \"Cliente_ID\": [1, 2, 3, 4, 5],\n",
        "    \"Producto\": [\"A\", \"B\", \"C\", \"D\", \"E\"],\n",
        "    \"Cantidad\": [10, 20, None, 5, 15],\n",
        "    \"Precio\": [\"100\", \"200$\", \"300\", \"cuatrocientos\", \"500\"],\n",
        "    \"Fecha_Transacción\": [\"2023-01-15\", \"2023/02/20\", \"2023-03-25\", \"2023/04/30\", \"2023-05-10\"]\n",
        "}\n",
        "\n",
        "df = pd.DataFrame(data)\n",
        "\n",
        "# 1. Identificar y contar valores faltantes en la columna \"Cantidad\"\n",
        "print(\"Valores faltantes en la columna Cantidad:\")\n",
        "print(df[\"Cantidad\"].isnull().sum())\n",
        "\n",
        "# 2. Verificar y corregir el formato de la columna \"Precio\"\n",
        "def limpiar_precio(precio):\n",
        "    try:\n",
        "        # Eliminar símbolos no numéricos y convertir a float\n",
        "        return float(precio.replace(\"$\", \"\").replace(\",\", \"\").strip())\n",
        "    except:\n",
        "        return None  # Marcar como None si no es válido\n",
        "\n",
        "df[\"Precio\"] = df[\"Precio\"].apply(limpiar_precio)\n",
        "\n",
        "# Mostrar precios corregidos\n",
        "print(\"\\nColumna Precio después de corregir:\")\n",
        "print(df[\"Precio\"])\n",
        "\n",
        "# 3. Validar y estandarizar la columna \"Fecha_Transacción\" a formato YYYY-MM-DD\n",
        "df[\"Fecha_Transacción\"] = pd.to_datetime(df[\"Fecha_Transacción\"], errors=\"coerce\")\n",
        "\n",
        "# Mostrar las fechas corregidas\n",
        "print(\"\\nFechas de transacción después de estandarizar:\")\n",
        "print(df[\"Fecha_Transacción\"])\n",
        "\n",
        "# 4. Identificar registros con valores faltantes o errores\n",
        "registros_erroneos = df[df.isnull().any(axis=1)]\n",
        "print(\"\\nRegistros con errores o valores faltantes:\")\n",
        "print(registros_erroneos)\n",
        "\n",
        "# 5. Mostrar DataFrame limpio\n",
        "df_limpio = df.dropna()\n",
        "print(\"\\nDataFrame después de limpieza:\")\n",
        "print(df_limpio)\n"
      ],
      "metadata": {
        "colab": {
          "base_uri": "https://localhost:8080/"
        },
        "id": "QSI5OEoub1tC",
        "outputId": "c6ce7a3b-cc0b-488e-babd-e29ff90a1e39"
      },
      "execution_count": 2,
      "outputs": [
        {
          "output_type": "stream",
          "name": "stdout",
          "text": [
            "Valores faltantes en la columna Cantidad:\n",
            "1\n",
            "\n",
            "Columna Precio después de corregir:\n",
            "0    100.0\n",
            "1    200.0\n",
            "2    300.0\n",
            "3      NaN\n",
            "4    500.0\n",
            "Name: Precio, dtype: float64\n",
            "\n",
            "Fechas de transacción después de estandarizar:\n",
            "0   2023-01-15\n",
            "1          NaT\n",
            "2   2023-03-25\n",
            "3          NaT\n",
            "4   2023-05-10\n",
            "Name: Fecha_Transacción, dtype: datetime64[ns]\n",
            "\n",
            "Registros con errores o valores faltantes:\n",
            "   Cliente_ID Producto  Cantidad  Precio Fecha_Transacción\n",
            "1           2        B      20.0   200.0               NaT\n",
            "2           3        C       NaN   300.0        2023-03-25\n",
            "3           4        D       5.0     NaN               NaT\n",
            "\n",
            "DataFrame después de limpieza:\n",
            "   Cliente_ID Producto  Cantidad  Precio Fecha_Transacción\n",
            "0           1        A      10.0   100.0        2023-01-15\n",
            "4           5        E      15.0   500.0        2023-05-10\n"
          ]
        }
      ]
    },
    {
      "cell_type": "markdown",
      "source": [
        "### Ejercicio 3\n",
        "\n",
        "Escenario: eres un analista de datos en una pequeña empresa que está recopilando\n",
        "información sobre sus clientes.\n",
        "El equipo de ventas te entrega un archivo con los siguientes datos:\n",
        "• Nombre de los clientes\n",
        "• Edad\n",
        "• Correo electrónico\n",
        "• País\n",
        "• Género\n",
        "• Número de visitas a la tienda\n",
        "Sin embargo, cuando abres el archivo, te das cuenta de que hay problemas en los datos:\n",
        "1. Valores faltantes: Algunos clientes no tienen información sobre su edad o correo\n",
        "electrónico.\n",
        "2. Duplicados: Algunos clientes han sido registrados más de una vez.\n",
        "3. Inconsistencias: Hay diferentes formas de escribir el género (\"M\", \"Masculino\", \"F\",\n",
        "\"Femenino\").\n",
        "4. Errores tipográficos: El nombre de algunos países está en minúsculas o mal escrito.\n",
        "5. Valores inválidos: Hay una edad registrada que parece imposible (200 años).\n",
        "- Datos iniciales (archivo ficticio):\n",
        "• Nombre,Edad,Email,Pais,Genero,Visitas\n",
        "• Juan,25,juan@mail.com,colombia,M,5\n",
        "• Maria,30,maria@mail.com,Colombia,F,7\n",
        "• Pedro,,pedro@mail.com,Mexico,H,6\n",
        "• Ana,29,ana@mail.com,Argentina,F,4\n",
        "• Luisa,28,luisa@mail.com,Colombia,Femenino,8\n",
        "• Carlos,200,carlos@mail.com,Brazil,M,2\n",
        "• Juan,25,juan@mail.com,colombia,M,5\n",
        "Objetivo: Tu objetivo es limpiar los datos para que estén listos para el análisis,\n",
        "aplicando las siguientes técnicas:\n",
        "1. Rellenar valores faltantes.\n",
        "2. Eliminar duplicados.\n",
        "3. Estandarizar los valores de las columnas (como el género y el país).\n",
        "4. Corregir valores inválidos (como la edad de 200 años).\n",
        "- Solucion:"
      ],
      "metadata": {
        "id": "B2PXOZqhb9Ow"
      }
    },
    {
      "cell_type": "code",
      "source": [
        "import pandas as pd\n",
        "import numpy as np\n",
        "\n",
        "# Crear el DataFrame inicial con los datos ficticios\n",
        "data = {\n",
        "    \"Nombre\": [\"Juan\", \"Maria\", \"Pedro\", \"Ana\", \"Luisa\", \"Carlos\", \"Juan\"],\n",
        "    \"Edad\": [25, 30, None, 29, 28, 200, 25],\n",
        "    \"Email\": [\"juan@mail.com\", \"maria@mail.com\", \"pedro@mail.com\", \"ana@mail.com\", \"luisa@mail.com\", \"carlos@mail.com\", \"juan@mail.com\"],\n",
        "    \"Pais\": [\"colombia\", \"Colombia\", \"Mexico\", \"Argentina\", \"Colombia\", \"Brazil\", \"colombia\"],\n",
        "    \"Genero\": [\"M\", \"F\", \"H\", \"F\", \"Femenino\", \"M\", \"M\"],\n",
        "    \"Visitas\": [5, 7, 6, 4, 8, 2, 5]\n",
        "}\n",
        "\n",
        "df = pd.DataFrame(data)\n",
        "\n",
        "print(\"Datos iniciales:\")\n",
        "print(df)\n",
        "\n",
        "# 1. Rellenar valores faltantes\n",
        "# Rellenar la edad faltante con la media de las edades válidas\n",
        "df[\"Edad\"] = df[\"Edad\"].fillna(df[\"Edad\"][df[\"Edad\"] <= 120].mean())\n",
        "\n",
        "# 2. Eliminar duplicados\n",
        "df = df.drop_duplicates()\n",
        "\n",
        "# 3. Estandarizar los valores de las columnas\n",
        "# Estandarizar el género\n",
        "def estandarizar_genero(genero):\n",
        "    if genero in [\"M\", \"Masculino\", \"H\"]:\n",
        "        return \"Masculino\"\n",
        "    elif genero in [\"F\", \"Femenino\"]:\n",
        "        return \"Femenino\"\n",
        "    return np.nan\n",
        "\n",
        "df[\"Genero\"] = df[\"Genero\"].apply(estandarizar_genero)\n",
        "\n",
        "# Estandarizar los nombres de los países (capitalizando correctamente)\n",
        "df[\"Pais\"] = df[\"Pais\"].str.capitalize()\n",
        "\n",
        "# 4. Corregir valores inválidos\n",
        "# Corregir la edad (valores mayores a 120 se reemplazan por la media de edades válidas)\n",
        "edad_valida = df[\"Edad\"] <= 120\n",
        "edad_media = df.loc[edad_valida, \"Edad\"].mean()\n",
        "df.loc[~edad_valida, \"Edad\"] = edad_media\n",
        "\n",
        "# Resultados finales\n",
        "print(\"\\nDatos limpios:\")\n",
        "print(df)\n"
      ],
      "metadata": {
        "colab": {
          "base_uri": "https://localhost:8080/"
        },
        "id": "VYMA3lHecONv",
        "outputId": "7cae8be8-7b0b-490e-fa7f-9ad05c4d8eff"
      },
      "execution_count": 3,
      "outputs": [
        {
          "output_type": "stream",
          "name": "stdout",
          "text": [
            "Datos iniciales:\n",
            "   Nombre   Edad            Email       Pais    Genero  Visitas\n",
            "0    Juan   25.0    juan@mail.com   colombia         M        5\n",
            "1   Maria   30.0   maria@mail.com   Colombia         F        7\n",
            "2   Pedro    NaN   pedro@mail.com     Mexico         H        6\n",
            "3     Ana   29.0     ana@mail.com  Argentina         F        4\n",
            "4   Luisa   28.0   luisa@mail.com   Colombia  Femenino        8\n",
            "5  Carlos  200.0  carlos@mail.com     Brazil         M        2\n",
            "6    Juan   25.0    juan@mail.com   colombia         M        5\n",
            "\n",
            "Datos limpios:\n",
            "   Nombre   Edad            Email       Pais     Genero  Visitas\n",
            "0    Juan  25.00    juan@mail.com   Colombia  Masculino        5\n",
            "1   Maria  30.00   maria@mail.com   Colombia   Femenino        7\n",
            "2   Pedro  27.40   pedro@mail.com     Mexico  Masculino        6\n",
            "3     Ana  29.00     ana@mail.com  Argentina   Femenino        4\n",
            "4   Luisa  28.00   luisa@mail.com   Colombia   Femenino        8\n",
            "5  Carlos  27.88  carlos@mail.com     Brazil  Masculino        2\n"
          ]
        }
      ]
    },
    {
      "cell_type": "markdown",
      "source": [],
      "metadata": {
        "id": "SVuzJcSzcSj8"
      }
    }
  ]
}
{
  "nbformat": 4,
  "nbformat_minor": 0,
  "metadata": {
    "colab": {
      "provenance": [],
      "authorship_tag": "ABX9TyN8Z7hm4u5QOS7B6rWDWFDV",
      "include_colab_link": true
    },
    "kernelspec": {
      "name": "python3",
      "display_name": "Python 3"
    },
    "language_info": {
      "name": "python"
    }
  },
  "cells": [
    {
      "cell_type": "markdown",
      "metadata": {
        "id": "view-in-github",
        "colab_type": "text"
      },
      "source": [
        "<a href=\"https://colab.research.google.com/github/johnmasso/Python/blob/main/Laboratorio_7.ipynb\" target=\"_parent\"><img src=\"https://colab.research.google.com/assets/colab-badge.svg\" alt=\"Open In Colab\"/></a>"
      ]
    },
    {
      "cell_type": "code",
      "execution_count": 1,
      "metadata": {
        "id": "WSrR0tpeF5Yt",
        "colab": {
          "base_uri": "https://localhost:8080/"
        },
        "outputId": "56efc642-25d7-4fb0-e097-2c0b5dd3837c"
      },
      "outputs": [
        {
          "output_type": "stream",
          "name": "stdout",
          "text": [
            "DataFrame con nombres, profesiones y países:\n",
            "   Nombre   Profesión       País\n",
            "0    Juan   Ingeniero   Colombia\n",
            "1   María      Médico     México\n",
            "2    Luis     Abogado  Argentina\n",
            "3     Ana    Profesor      Chile\n",
            "4  Carlos    Contador       Perú\n",
            "5   Lucía  Diseñadora     España\n",
            "6   Pedro  Arquitecto  Venezuela\n",
            "7   Elena   Psicóloga    Ecuador\n"
          ]
        }
      ],
      "source": [
        "# Importar la biblioteca pandas\n",
        "import pandas as pd\n",
        "\n",
        "# Crear un DataFrame con nombres, profesiones y países de 8 personas\n",
        "data = {\n",
        "    \"Nombre\": [\"Juan\", \"María\", \"Luis\", \"Ana\", \"Carlos\", \"Lucía\", \"Pedro\", \"Elena\"],\n",
        "    \"Profesión\": [\"Ingeniero\", \"Médico\", \"Abogado\", \"Profesor\", \"Contador\", \"Diseñadora\", \"Arquitecto\", \"Psicóloga\"],\n",
        "    \"País\": [\"Colombia\", \"México\", \"Argentina\", \"Chile\", \"Perú\", \"España\", \"Venezuela\", \"Ecuador\"]\n",
        "}\n",
        "\n",
        "df_personas = pd.DataFrame(data)\n",
        "\n",
        "# Imprimir el DataFrame\n",
        "print(\"DataFrame con nombres, profesiones y países:\")\n",
        "print(df_personas)\n"
      ]
    },
    {
      "cell_type": "code",
      "source": [
        "# Cargar un archivo CSV y mostrar las primeras 5 filas\n",
        "df_csv = pd.read_csv('datos_ejemplo.csv')  # Asegúrate de subir el archivo al entorno de Colab\n",
        "\n",
        "print(\"Primeras 5 filas del archivo CSV:\")\n",
        "print(df_csv.head(5))\n"
      ],
      "metadata": {
        "colab": {
          "base_uri": "https://localhost:8080/"
        },
        "id": "BIcQVNU5XwlB",
        "outputId": "a42864e8-ab7c-4242-c9cf-425b888751f9"
      },
      "execution_count": 2,
      "outputs": [
        {
          "output_type": "stream",
          "name": "stdout",
          "text": [
            "Primeras 5 filas del archivo CSV:\n",
            "   Estacion  Producto           Tarjeta  Integracion       Fecha  Hora  \\\n",
            "0  7 AGOSTO  COMUN_II  19.05.00244018-5          NaN  25/03/2024     8   \n",
            "1  7 AGOSTO     COMUN  19.06.03748741-1          NaN  25/03/2024    11   \n",
            "2  7 AGOSTO     COMUN  19.06.03748741-1          NaN  25/03/2024    11   \n",
            "3  7 AGOSTO     COMUN  19.06.03748741-1          NaN  25/03/2024    11   \n",
            "4  7 AGOSTO     COMUN  19.06.03623511-6          NaN  25/03/2024    11   \n",
            "\n",
            "  Hora Detalle  Veh Id  Cu Farevalue  \n",
            "0     08:28:11    2103           2.9  \n",
            "1     11:32:07    2103           2.9  \n",
            "2     11:32:11    2103           2.9  \n",
            "3     11:32:18    2103           2.9  \n",
            "4     11:33:13    2103           2.9  \n"
          ]
        }
      ]
    },
    {
      "cell_type": "code",
      "source": [
        "# Importar numpy para generar valores aleatorios\n",
        "import numpy as np\n",
        "\n",
        "# Generar un DataFrame de 100 filas y 8 columnas con valores aleatorios\n",
        "np.random.seed(0)  # Fijar la semilla para obtener resultados reproducibles\n",
        "df_random = pd.DataFrame(np.random.rand(100, 8), columns=[f\"Columna_{i+1}\" for i in range(8)])\n",
        "\n",
        "# Mostrar el resumen estadístico del DataFrame\n",
        "print(\"Resumen estadístico del DataFrame aleatorio:\")\n",
        "print(df_random.describe())\n"
      ],
      "metadata": {
        "colab": {
          "base_uri": "https://localhost:8080/"
        },
        "id": "_FmTaphqXwdy",
        "outputId": "34e729c0-61cf-447f-e710-094b8e46723a"
      },
      "execution_count": 3,
      "outputs": [
        {
          "output_type": "stream",
          "name": "stdout",
          "text": [
            "Resumen estadístico del DataFrame aleatorio:\n",
            "        Columna_1   Columna_2   Columna_3   Columna_4   Columna_5   Columna_6  \\\n",
            "count  100.000000  100.000000  100.000000  100.000000  100.000000  100.000000   \n",
            "mean     0.515153    0.499425    0.516725    0.499114    0.479604    0.464825   \n",
            "std      0.270167    0.298421    0.293938    0.321437    0.293449    0.276051   \n",
            "min      0.020218    0.012036    0.015606    0.004695    0.002703    0.001383   \n",
            "25%      0.281974    0.275348    0.272919    0.216550    0.231410    0.253753   \n",
            "50%      0.527390    0.497641    0.535905    0.473685    0.423681    0.420783   \n",
            "75%      0.726438    0.732680    0.739335    0.818021    0.725781    0.650677   \n",
            "max      0.976761    0.968286    0.990339    0.999278    0.988374    0.998847   \n",
            "\n",
            "        Columna_7   Columna_8  \n",
            "count  100.000000  100.000000  \n",
            "mean     0.484010    0.484542  \n",
            "std      0.287365    0.302694  \n",
            "min      0.003860    0.035362  \n",
            "25%      0.253056    0.221272  \n",
            "50%      0.478725    0.433088  \n",
            "75%      0.693893    0.775027  \n",
            "max      0.994401    0.987349  \n"
          ]
        }
      ]
    },
    {
      "cell_type": "markdown",
      "source": [
        "# PARTE 2"
      ],
      "metadata": {
        "id": "EAkohKHYYFSi"
      }
    },
    {
      "cell_type": "code",
      "source": [
        "# Importar la biblioteca numpy\n",
        "import numpy as np\n",
        "\n",
        "# Crear un array de números del 1 al 10\n",
        "array_numeros = np.arange(1, 11)\n",
        "\n",
        "# Calcular y mostrar la suma, media y el valor máximo del array\n",
        "suma = np.sum(array_numeros)\n",
        "media = np.mean(array_numeros)\n",
        "maximo = np.max(array_numeros)\n",
        "\n",
        "print(\"Array de números del 1 al 10:\", array_numeros)\n",
        "print(\"Suma:\", suma)\n",
        "print(\"Media:\", media)\n",
        "print(\"Valor máximo:\", maximo)\n"
      ],
      "metadata": {
        "colab": {
          "base_uri": "https://localhost:8080/"
        },
        "id": "YT0Dli2PYINa",
        "outputId": "4efaecd2-8e08-4703-9ab4-4e6ddcaf0218"
      },
      "execution_count": 5,
      "outputs": [
        {
          "output_type": "stream",
          "name": "stdout",
          "text": [
            "Array de números del 1 al 10: [ 1  2  3  4  5  6  7  8  9 10]\n",
            "Suma: 55\n",
            "Media: 5.5\n",
            "Valor máximo: 10\n"
          ]
        }
      ]
    },
    {
      "cell_type": "code",
      "source": [
        "# Crear un array de 3x4 lleno de ceros\n",
        "array_3x4 = np.zeros((3, 4))\n",
        "\n",
        "# Cambiar la forma del array a 2x6\n",
        "array_2x6 = array_3x4.reshape(2, 6)\n",
        "\n",
        "print(\"Array de 3x4 lleno de ceros:\")\n",
        "print(array_3x4)\n",
        "print(\"\\nArray de 2x6 después de cambiar su forma:\")\n",
        "print(array_2x6)\n"
      ],
      "metadata": {
        "colab": {
          "base_uri": "https://localhost:8080/"
        },
        "id": "JTE0F-j5Y8aw",
        "outputId": "6bc1030c-2e34-4f42-f78f-c496db6c8a62"
      },
      "execution_count": 6,
      "outputs": [
        {
          "output_type": "stream",
          "name": "stdout",
          "text": [
            "Array de 3x4 lleno de ceros:\n",
            "[[0. 0. 0. 0.]\n",
            " [0. 0. 0. 0.]\n",
            " [0. 0. 0. 0.]]\n",
            "\n",
            "Array de 2x6 después de cambiar su forma:\n",
            "[[0. 0. 0. 0. 0. 0.]\n",
            " [0. 0. 0. 0. 0. 0.]]\n"
          ]
        }
      ]
    },
    {
      "cell_type": "code",
      "source": [
        "# Generar una matriz aleatoria de 3x3\n",
        "matriz_3x3 = np.random.rand(3, 3)\n",
        "\n",
        "# Calcular la transpuesta de la matriz\n",
        "matriz_transpuesta = matriz_3x3.T\n",
        "\n",
        "print(\"Matriz aleatoria de 3x3:\")\n",
        "print(matriz_3x3)\n",
        "print(\"\\nTranspuesta de la matriz:\")\n",
        "print(matriz_transpuesta)\n"
      ],
      "metadata": {
        "colab": {
          "base_uri": "https://localhost:8080/"
        },
        "id": "4bMzdGi3ZA6p",
        "outputId": "7c95b021-5af3-4038-fd4a-04ed59f8f2e1"
      },
      "execution_count": 7,
      "outputs": [
        {
          "output_type": "stream",
          "name": "stdout",
          "text": [
            "Matriz aleatoria de 3x3:\n",
            "[[0.0399928  0.63970511 0.40830291]\n",
            " [0.37740657 0.80936497 0.70903546]\n",
            " [0.95433382 0.35193624 0.89754276]]\n",
            "\n",
            "Transpuesta de la matriz:\n",
            "[[0.0399928  0.37740657 0.95433382]\n",
            " [0.63970511 0.80936497 0.35193624]\n",
            " [0.40830291 0.70903546 0.89754276]]\n"
          ]
        }
      ]
    },
    {
      "cell_type": "code",
      "source": [
        "# Crear dos arrays de 5 valores cada uno\n",
        "array_1 = np.array([1, 2, 3, 4, 5])\n",
        "array_2 = np.array([6, 7, 8, 9, 10])\n",
        "\n",
        "# Concatenar los dos arrays\n",
        "array_concatenado = np.concatenate((array_1, array_2))\n",
        "\n",
        "print(\"Primer array:\", array_1)\n",
        "print(\"Segundo array:\", array_2)\n",
        "print(\"Array concatenado:\")\n",
        "print(array_concatenado)\n"
      ],
      "metadata": {
        "colab": {
          "base_uri": "https://localhost:8080/"
        },
        "id": "GdKNwf3SZUpC",
        "outputId": "417eb04a-932c-48b5-a18e-8a775a2c6315"
      },
      "execution_count": 8,
      "outputs": [
        {
          "output_type": "stream",
          "name": "stdout",
          "text": [
            "Primer array: [1 2 3 4 5]\n",
            "Segundo array: [ 6  7  8  9 10]\n",
            "Array concatenado:\n",
            "[ 1  2  3  4  5  6  7  8  9 10]\n"
          ]
        }
      ]
    }
  ]
}